{
 "cells": [
  {
   "cell_type": "code",
   "execution_count": null,
   "id": "0ebd1666",
   "metadata": {},
   "outputs": [],
   "source": [
    "import ast"
   ]
  },
  {
   "cell_type": "code",
   "execution_count": null,
   "id": "4b61680b",
   "metadata": {},
   "outputs": [],
   "source": [
    "\n",
    "def generate_code(task):\n",
    "    \"\"\"\n",
    "    Simulates AI-generated code based on a simple task description.\n",
    "    Currently supports: addition, subtraction, multiplication, division.\n",
    "    \"\"\"\n",
    "    task = task.lower()\n",
    "    if \"add\" in task:\n",
    "        return \"def compute(a, b):\\n    return a + b\"\n",
    "    elif \"subtract\" in task:\n",
    "        return \"def compute(a, b):\\n    return a - b\"\n",
    "    elif \"multiply\" in task:\n",
    "        return \"def compute(a, b):\\n    return a * b\"\n",
    "    elif \"divide\" in task:\n",
    "        return \"def compute(a, b):\\n    return a / b if b != 0 else 'Error: Division by zero'\"\n",
    "    else:\n",
    "        return \"def compute(a, b):\\n    return 'Unsupported operation'\"\n"
   ]
  },
  {
   "cell_type": "code",
   "execution_count": null,
   "id": "f8e4797e",
   "metadata": {},
   "outputs": [],
   "source": [
    "\n",
    "def verify_code(code_str):\n",
    "    \"\"\"\n",
    "    Verifies the code for syntax correctness.\n",
    "    \"\"\"\n",
    "    try:\n",
    "        ast.parse(code_str)\n",
    "        return True\n",
    "    except SyntaxError:\n",
    "        return False\n"
   ]
  },
  {
   "cell_type": "code",
   "execution_count": null,
   "id": "0fcc7e4d",
   "metadata": {},
   "outputs": [],
   "source": [
    "\n",
    "# Task given to AI\n",
    "task_description = \"Add two numbers\"\n",
    "code = generate_code(task_description)\n",
    "\n",
    "# Verify code before execution\n",
    "if verify_code(code):\n",
    "    exec(code)  # Define the compute function dynamically\n",
    "    result = compute(10, 5)  # Example input\n",
    "    print(\"Task:\", task_description)\n",
    "    print(\"Result:\", result)\n",
    "else:\n",
    "    print(\"Generated code has syntax errors.\")\n"
   ]
  }
 ],
 "metadata": {},
 "nbformat": 4,
 "nbformat_minor": 5
}